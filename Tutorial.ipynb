{
 "cells": [
  {
   "cell_type": "markdown",
   "id": "961c370f",
   "metadata": {},
   "source": [
    "# Introduction"
   ]
  },
  {
   "cell_type": "markdown",
   "id": "b16d45ce",
   "metadata": {},
   "source": [
    "In this tutorial, we will explain the basics of using Data Detective to perform a Data Investigation. In this tutorial, we will go through the steps of setting up and running a basic Data Detective Investigation, including: \n",
    "1. Configuring a dataset that works with Data Detective. \n",
    "2. Setting up a schema that defines the Data Detective investigation. \n",
    "3. Executing a data detective investigation. \n",
    "4. Summarizing results using the built-in Rank Aggregator\n",
    "\n",
    "\n",
    "We will also include supplemental tutorials for some of Data Detective's more advanced features, including: \n",
    "- Extending the Data Detective investigation with custom validations\n",
    "- Extending the transform library to map custom datatypes to supported datatypes\n",
    "\n",
    "\n",
    "Let's get started!\n"
   ]
  },
  {
   "cell_type": "code",
   "execution_count": 1,
   "id": "f1139eb3",
   "metadata": {},
   "outputs": [
    {
     "name": "stderr",
     "output_type": "stream",
     "text": [
      "/Users/mcconnl3/Code/data-detective-load-test/dd_env/lib/python3.9/site-packages/urllib3/__init__.py:34: NotOpenSSLWarning: urllib3 v2 only supports OpenSSL 1.1.1+, currently the 'ssl' module is compiled with 'LibreSSL 2.8.3'. See: https://github.com/urllib3/urllib3/issues/3020\n",
      "  warnings.warn(\n"
     ]
    }
   ],
   "source": [
    "import matplotlib.pyplot as plt\n",
    "import numpy as np\n",
    "import pandas as pd\n",
    "import time\n",
    "import torch\n",
    "import torchvision.transforms as transforms\n",
    "\n",
    "from torchvision.datasets import MNIST\n",
    "from typing import Dict, Union\n",
    "\n",
    "from constants import FloatTensor\n",
    "from src.aggregation.rankings import ResultAggregator, RankingAggregationMethod\n",
    "from src.data_detective_engine import DataDetectiveEngine\n",
    "from src.datasets.tutorial_dataset import TutorialDataset\n",
    "from src.datasets.data_detective_dataset import dd_random_split\n",
    "from src.enums.enums import DataType\n",
    "\n",
    "# %pdb"
   ]
  },
  {
   "cell_type": "markdown",
   "id": "60bfa30b",
   "metadata": {},
   "source": [
    "# Dataset Construction"
   ]
  },
  {
   "cell_type": "markdown",
   "id": "8028623e",
   "metadata": {},
   "source": [
    "## Requirements for a Dataset\n",
    "\n",
    "For a dataset to work within the Data Detective framework, it needs to satisfy the following requirements: \n",
    "\n",
    "1. It must override the `__getitem__` method that returns a dictionary mapping from each data column key to the data value. \n",
    "2. It must contain a `datatypes` method that returns a dictionary mapping from each data column key to the column's datatype. \n",
    "\n",
    "Let's examine what this looks like in practice.\n"
   ]
  },
  {
   "cell_type": "markdown",
   "id": "2e87d144",
   "metadata": {},
   "source": [
    "## Dataset Implementation"
   ]
  },
  {
   "cell_type": "markdown",
   "id": "c8dd5898",
   "metadata": {},
   "source": [
    "In this tutorial, we will create a heterogeneous dataset that consists of the following items: \n",
    "\n",
    "- MNIST images\n",
    "- MNIST labels\n",
    "- 10-dimensional normal distribution (μ=0, σ=1)\n",
    "\n",
    "The full dataset can be found under src/datasets/tutorial_dataset\n"
   ]
  },
  {
   "cell_type": "code",
   "execution_count": 2,
   "id": "86f6b659",
   "metadata": {},
   "outputs": [],
   "source": [
    "dataset = TutorialDataset(\n",
    "    root='./data/MNIST',\n",
    "    download=True,\n",
    "    transform=transforms.Compose([\n",
    "        transforms.ToTensor() \n",
    "    ])\n",
    ")"
   ]
  },
  {
   "cell_type": "code",
   "execution_count": 3,
   "id": "3f7faeb5",
   "metadata": {},
   "outputs": [],
   "source": [
    "dataset.show_datapoint(0)"
   ]
  },
  {
   "cell_type": "markdown",
   "id": "848a420b",
   "metadata": {},
   "source": [
    "# Setting up the Data Object"
   ]
  },
  {
   "cell_type": "markdown",
   "id": "c87def2d",
   "metadata": {},
   "source": [
    "The *data object* is a dictionary that consists of the preprocessed dataset and (optionally) its splits. In order to make use of split validation techniques such as distribution shift between splits, the data splits must be included. \n",
    "\n",
    "There are 3 basic categories of split objects that can be included in the data object:\n",
    "1. **The Entire Set**. This set consists of the entire dataset being analyzed. This is held under the key `entire_set`.\n",
    "2. **Unordered Split Sets**. These are splits that are order-invariant for the purposes of analysis. For example, when doing covariate analysis between splits, the order and names of the dataset does not need to be specified to compare all datasets to all other datasets. They are defined as a nested dictionary under the key `split_group_set` under the key `split_group_set`; see the example below for more details. \n",
    "3. **Ordered Splits**. These are splits that are order-dependent for the purposes of analysis. For example, when doing OOD detection, it is important to define a source dataset for training the OOD model and the target split for evaluation. \n",
    "   - Source/training splits are labeled as the `everything_but_inference_set`\n",
    "   - Target/inference splits are labeled as the `inference_set`\n",
    "\n",
    "The example below should clarify these distinctions."
   ]
  },
  {
   "cell_type": "code",
   "execution_count": 4,
   "id": "1870a4b9",
   "metadata": {},
   "outputs": [
    {
     "name": "stdout",
     "output_type": "stream",
     "text": [
      "size of inference_dataset: 20\n",
      "size of everything_but_inference_dataset: 30\n",
      "size of train_dataset: 18\n",
      "size of entire dataset: 50\n",
      "size of val_dataset: 6\n",
      "size of test_dataset: 6\n"
     ]
    }
   ],
   "source": [
    "inference_size: int = 20\n",
    "everything_but_inference_size: int = dataset.__len__() - inference_size\n",
    "inference_dataset, everything_but_inference_dataset = dd_random_split(dataset, [inference_size, dataset.__len__() - inference_size])\n",
    "    \n",
    "train_size: int = int(0.6 * len(everything_but_inference_dataset))\n",
    "val_size: int = int(0.2 * len(everything_but_inference_dataset))\n",
    "test_size: int = len(everything_but_inference_dataset) - train_size - val_size\n",
    "train_dataset, val_dataset, test_dataset = dd_random_split(everything_but_inference_dataset, [train_size, val_size, test_size])\n",
    "\n",
    "data_object = {\n",
    "    \"entire_set\": dataset,\n",
    "    \"everything_but_inference_set\": everything_but_inference_dataset,\n",
    "    \"inference_set\": inference_dataset,\n",
    "    \"train/val/test\": {\n",
    "        \"training_set\": train_dataset,\n",
    "        \"validation_set\": val_dataset,\n",
    "        \"test_set\": test_dataset,\n",
    "    },\n",
    "}\n",
    "\n",
    "print(f\"size of inference_dataset: {inference_dataset.__len__()}\")\n",
    "print(f\"size of everything_but_inference_dataset: {everything_but_inference_dataset.__len__()}\")\n",
    "print(f\"size of train_dataset: {train_dataset.__len__()}\")\n",
    "print(f\"size of entire dataset: {dataset.__len__()}\")\n",
    "print(f\"size of val_dataset: {val_dataset.__len__()}\")\n",
    "print(f\"size of test_dataset: {test_dataset.__len__()}\")"
   ]
  },
  {
   "cell_type": "markdown",
   "id": "5f2197dc",
   "metadata": {},
   "source": [
    "# Setting up a Validation Schema"
   ]
  },
  {
   "cell_type": "markdown",
   "id": "a2be22c1",
   "metadata": {},
   "source": [
    "## Specifying Validators and Options"
   ]
  },
  {
   "cell_type": "markdown",
   "id": "c033c9e0",
   "metadata": {},
   "source": [
    "The validation schema contains information about the types of checks that will be executed by the Data Detective Engine and the transforms that Data Detective will use. Before discussing the validation schema, it is important to define two key modular components that make up Data Detective investigations. Data Detective's functionality can be divided into a modular, implementation-heavy component referred to as a *validator method* and an easily toggleable component referred to as a *validator*.\n",
    "\n",
    "A *validator method* performs a specific type of test for a data issue on a specific data type. These validator methods primarily consist of the code needed to take a dataset and run an evaluation on it that produces either a positive or negative result or a score. Some examples of validator methods include:\n",
    "- Mann-Whitney U-Test to examine distribution shift between train/test splits on tabular data\n",
    "- Kernel Conditional Independence (KCI) test for validating causal assumptions on vectorvalued\n",
    "data\n",
    "- Isolation forest trained/evaluated on image histograms for identifying anomalies in imaging\n",
    "data\n",
    "\n",
    "*Validations* are toggleable, datatype-agnostic collections of validator methods that are serially applied to the dataset. Each validator targets a single problem that may arise in data, including: \n",
    "- Shift between different data splits\n",
    "- Outlier and anomaly detection\n",
    "- Violation of parametric assumptions on the data\n",
    "- Violation of expected casual structures / conditional independences in the \n",
    "\n",
    "In the validation schema, users only specify the validators that they would like to use. This abstracts away details concerning what methods should be used for which columns and simplifies the process for searching for a particular flavor of issues to a few lines of code. Below is the validation schema that we will use for the tutorial. "
   ]
  },
  {
   "cell_type": "code",
   "execution_count": 5,
   "id": "7fbdc35b",
   "metadata": {},
   "outputs": [],
   "source": [
    "validation_schema : Dict = {\n",
    "    \"default_inclusion\": False,\n",
    "    \"validators\": {\n",
    "        \"unsupervised_anomaly_data_validator\": {},\n",
    "        # \"unsupervised_multimodal_anomaly_data_validator\": {},\n",
    "        # \"split_covariate_data_validator\": {},\n",
    "        # \"ood_inference_data_validator\": {}\n",
    "    }\n",
    "}"
   ]
  },
  {
   "cell_type": "markdown",
   "id": "45e5ebfa",
   "metadata": {},
   "source": [
    "A few notes: \n",
    "- Each validator maps to an object that specifies additional options. For this tutorial, we will use the default settings, but these options include: \n",
    "  - special kwargs to include and pass to the validator methods\n",
    "  - additional filtering regarding which columns the validator should be applied to\n",
    " \n",
    "  \n",
    "  \n",
    " "
   ]
  },
  {
   "cell_type": "markdown",
   "id": "193f89af",
   "metadata": {},
   "source": [
    "## Specifying Transforms"
   ]
  },
  {
   "cell_type": "markdown",
   "id": "d1f1525d",
   "metadata": {},
   "source": [
    "It may be the case that you are using a data modality that has little to no method infrastructure in Data Detective. The simplest way to make use of all of Data Detective's functionality is to use a transform that maps this data modality to a well-supported modality in Data Detective such as multidimensional data. In our example, we will be making use of a pretrained resnet50 backbone to map our MNIST images to 2048 dimensional vectors. This will allow us to make use of methods built for multidimensional data on our MNIST image representations."
   ]
  },
  {
   "cell_type": "code",
   "execution_count": 6,
   "id": "783b509d",
   "metadata": {},
   "outputs": [],
   "source": [
    "transform_schema : Dict = {\n",
    "    \"transforms\": {\n",
    "        \"IMAGE\": [{\n",
    "            \"name\": \"resnet50\",\n",
    "            \"in_place\": \"False\",\n",
    "            \"options\": {},\n",
    "        }],\n",
    "    }\n",
    "}\n",
    "     \n",
    "full_validation_schema: Dict = {\n",
    "    **validation_schema, \n",
    "    **transform_schema\n",
    "}"
   ]
  },
  {
   "cell_type": "markdown",
   "id": "4d3611d3",
   "metadata": {},
   "source": [
    "# Running the Data Detective Engine"
   ]
  },
  {
   "cell_type": "markdown",
   "id": "c3ecb162",
   "metadata": {},
   "source": [
    "Now that the full validation schema and data object are prepared, we are ready to run the Data Detective Engine."
   ]
  },
  {
   "cell_type": "code",
   "execution_count": 7,
   "id": "ceddc239",
   "metadata": {},
   "outputs": [
    {
     "name": "stdout",
     "output_type": "stream",
     "text": [
      "running validator class unsupervised_anomaly_data_validator...\n",
      "thread 11316473856 entered to handle validator method iforest_anomaly_validator_methodthread 11433603072 entered to handle validator method pca_anomaly_validator_method\n",
      "thread 11433603072:    running pca_anomaly_validator_method...\n",
      "\n",
      "thread 11316473856:    running iforest_anomaly_validator_method...\n",
      "thread 11450429440 entered to handle validator method cblof_anomaly_validator_method\n",
      "thread 11450429440:    running cblof_anomaly_validator_method...\n",
      "thread 11433603072: finished\n"
     ]
    },
    {
     "name": "stderr",
     "output_type": "stream",
     "text": [
      "/Users/mcconnl3/Code/data-detective-load-test/dd_env/lib/python3.9/site-packages/sklearn/cluster/_kmeans.py:870: FutureWarning: The default value of `n_init` will change from 10 to 'auto' in 1.4. Set the value of `n_init` explicitly to suppress the warning\n",
      "  warnings.warn(\n"
     ]
    },
    {
     "name": "stdout",
     "output_type": "stream",
     "text": [
      "thread 11316473856: finished\n",
      "thread 11450429440: finished\n",
      "--- 3.201359987258911 seconds ---\n"
     ]
    }
   ],
   "source": [
    "data_detective_engine = DataDetectiveEngine()\n",
    "\n",
    "# 1 thread, --- 220.85648322105408 seconds ---\n",
    "# multithreadinng (joblib), --- 149.11400604248047 seconds ---\n",
    "# thread pools, --- 81.38025784492493 seconds ---\n",
    "# data-level caching, clean cache, --- 75.22503590583801 seconds ---\n",
    "# sample-level caching, clean cache--- 26.184876918792725 seconds ---\n",
    "# data-level caching, dirty cache, --- 22.925609827041626 seconds ---\n",
    "# sample-level caching, dirty cache, --- 19.73765206336975 seconds ---\n",
    "\n",
    "\n",
    "start_time = time.time()\n",
    "results = data_detective_engine.validate_from_schema(full_validation_schema, data_object)\n",
    "print(\"--- %s seconds ---\" % (time.time() - start_time))"
   ]
  },
  {
   "cell_type": "markdown",
   "id": "134e1d58",
   "metadata": {},
   "source": [
    "Great! Let's start to look at and analyze the results we've collected."
   ]
  },
  {
   "cell_type": "markdown",
   "id": "84578eae",
   "metadata": {},
   "source": [
    "# Interpreting Results using the Built-In Rank Aggregator"
   ]
  },
  {
   "cell_type": "code",
   "execution_count": 8,
   "id": "679a5235",
   "metadata": {},
   "outputs": [
    {
     "ename": "IndexError",
     "evalue": "list index out of range",
     "output_type": "error",
     "traceback": [
      "\u001b[0;31m---------------------------------------------------------------------------\u001b[0m",
      "\u001b[0;31mIndexError\u001b[0m                                Traceback (most recent call last)",
      "Cell \u001b[0;32mIn[8], line 91\u001b[0m\n\u001b[1;32m     88\u001b[0m         \u001b[39mreturn\u001b[39;00m output_df\n\u001b[1;32m     90\u001b[0m aggregator \u001b[39m=\u001b[39m RankingAggregator(results_object\u001b[39m=\u001b[39mresults)\n\u001b[0;32m---> 91\u001b[0m input_df \u001b[39m=\u001b[39m aggregator\u001b[39m.\u001b[39;49maggregate_modal_rankings(\u001b[39m\"\u001b[39;49m\u001b[39munsupervised_anomaly_data_validator\u001b[39;49m\u001b[39m\"\u001b[39;49m, [RankingAggregationMethod\u001b[39m.\u001b[39;49mLOWEST_RANK, RankingAggregationMethod\u001b[39m.\u001b[39;49mHIGHEST_RANK, RankingAggregationMethod\u001b[39m.\u001b[39;49mROUND_ROBIN], given_data_modality\u001b[39m=\u001b[39;49m\u001b[39m\"\u001b[39;49m\u001b[39mnormal_vector\u001b[39;49m\u001b[39m\"\u001b[39;49m)\n\u001b[1;32m     92\u001b[0m input_df\n",
      "Cell \u001b[0;32mIn[8], line 71\u001b[0m, in \u001b[0;36mRankingAggregator.aggregate_modal_rankings\u001b[0;34m(self, validator_name, aggregation_methods, given_data_modality, invert)\u001b[0m\n\u001b[1;32m     69\u001b[0m     scorelist \u001b[39m=\u001b[39m \u001b[39mself\u001b[39m\u001b[39m.\u001b[39mconvert_to_scorelist(rankings_df)\n\u001b[1;32m     70\u001b[0m     agg_method \u001b[39m=\u001b[39m \u001b[39mgetattr\u001b[39m(RankingAggregator\u001b[39m.\u001b[39mFLRA, aggregation_method_name)\n\u001b[0;32m---> 71\u001b[0m     agg_rankings \u001b[39m=\u001b[39m agg_method(scorelist)[\u001b[39m1\u001b[39m]\n\u001b[1;32m     72\u001b[0m     output_df[\u001b[39mf\u001b[39m\u001b[39m\"\u001b[39m\u001b[39m{\u001b[39;00maggregation_method_name\u001b[39m}\u001b[39;00m\u001b[39m_agg_rank\u001b[39m\u001b[39m\"\u001b[39m] \u001b[39m=\u001b[39m \u001b[39mlist\u001b[39m(agg_rankings\u001b[39m.\u001b[39mvalues())\n\u001b[1;32m     74\u001b[0m \u001b[39mreturn\u001b[39;00m output_df\n",
      "File \u001b[0;32m~/Code/data-detective-load-test/pyrankagg/rankagg.py:401\u001b[0m, in \u001b[0;36mFullListRankAggregator.lowest_rank\u001b[0;34m(self, rank_list)\u001b[0m\n\u001b[1;32m    396\u001b[0m \u001b[39mdef\u001b[39;00m \u001b[39mlowest_rank\u001b[39m(\u001b[39mself\u001b[39m,rank_list):\n\u001b[1;32m    397\u001b[0m \u001b[39m    \u001b[39m\u001b[39m\"\"\"\u001b[39;00m\n\u001b[1;32m    398\u001b[0m \u001b[39m    Each item is assigned the lowest rank it obtains in all of the rank\u001b[39;00m\n\u001b[1;32m    399\u001b[0m \u001b[39m    lists.  Ties are broken randomly.\u001b[39;00m\n\u001b[1;32m    400\u001b[0m \u001b[39m    \"\"\"\u001b[39;00m\n\u001b[0;32m--> 401\u001b[0m     max_ranks \u001b[39m=\u001b[39m {}\u001b[39m.\u001b[39mfromkeys(rank_list[\u001b[39m0\u001b[39;49m])\n\u001b[1;32m    402\u001b[0m     item_ranks \u001b[39m=\u001b[39m \u001b[39mself\u001b[39m\u001b[39m.\u001b[39mitem_ranks(rank_list)\n\u001b[1;32m    403\u001b[0m     \u001b[39mfor\u001b[39;00m k \u001b[39min\u001b[39;00m max_ranks:\n",
      "\u001b[0;31mIndexError\u001b[0m: list index out of range"
     ]
    }
   ],
   "source": [
    "from enum import Enum\n",
    "\n",
    "import pandas as pd\n",
    "import scipy\n",
    "from typing import List\n",
    "\n",
    "from pyrankagg.rankagg import FullListRankAggregator\n",
    "\n",
    "class RankingAggregationMethod(Enum):\n",
    "    MEDIAN_AGGREGATION = \"median_aggregation\"\n",
    "    HIGHEST_RANK = \"highest_rank\"\n",
    "    LOWEST_RANK = \"lowest_rank\"\n",
    "    STABILITY_SELECTION = \"stability_selection\"\n",
    "    EXPONENTIAL_WEIGHTING = \"exponential_weighting\"\n",
    "    STABILITY_ENHANCED_BORDA = \"stability_enhanced_borda\"\n",
    "    EXPONENTIAL_ENHANCED_BORDA = \"exponential_enhanced_borda\"\n",
    "    ROBUST_AGGREGATION = \"robust_aggregation\"\n",
    "    ROUND_ROBIN = \"round_robin\"\n",
    "\n",
    "\n",
    "class RankingAggregator:\n",
    "    FLRA = FullListRankAggregator()\n",
    "\n",
    "    def __init__(self, results_object):\n",
    "        self.results_object = results_object\n",
    "\n",
    "    @staticmethod\n",
    "    def list_is_full_ranking(lst):\n",
    "        lst_len = len(lst)\n",
    "        return list(range(lst_len)) == sorted(lst)\n",
    "\n",
    "    @staticmethod\n",
    "    def convert_to_scorelist(dataframe):\n",
    "        \"\"\" scorelist = [{'milk':1.4,'cheese':2.6,'eggs':1.2,'bread':3.0},\n",
    "                         {'milk':2.0,'cheese':3.2,'eggs':2.7,'bread':2.9},\n",
    "                         {'milk':2.7,'cheese':3.0,'eggs':2.5,'bread':3.5}]\"\"\"\n",
    "        scorelist = []\n",
    "        for col in dataframe.columns:\n",
    "            tmp_dict = {f\"item {idx}\": val for idx, val in zip(dataframe.index, dataframe[col])}\n",
    "            scorelist.append(tmp_dict)\n",
    "        return scorelist\n",
    "\n",
    "    @staticmethod\n",
    "    def get_rankings(scores):\n",
    "        return {f\"item {k}\": v for k, v in RankingAggregator.FLRA.convert_to_ranks(dict(enumerate(scores))).items()}\n",
    "\n",
    "    def construct_rankings_df(self, validator_name, given_validator_method: str = None, given_data_modality: str = None):\n",
    "        validator_results = self.results_object[validator_name]\n",
    "        results_obj = {}\n",
    "\n",
    "        for validator_method, results_dict in validator_results.items():\n",
    "            if given_validator_method and (validator_method != given_validator_method):\n",
    "                continue\n",
    "            for data_modality, scores in results_dict.items():\n",
    "                if given_data_modality and (data_modality.replace(\"_results\", \"\") != given_data_modality):\n",
    "                    continue\n",
    "                rankings = RankingAggregator.get_rankings(scores)\n",
    "                results_obj[f\"{data_modality}_{validator_method}_rank\"] = rankings\n",
    "        \n",
    "        rankings_df = pd.DataFrame(results_obj)\n",
    "        return rankings_df.sort_index()\n",
    "\n",
    "    def aggregate_modal_rankings(self, validator_name: str, aggregation_methods: List[RankingAggregationMethod], given_data_modality: str = None, invert=False): \n",
    "        rankings_df = self.construct_rankings_df(validator_name, given_data_modality=given_data_modality)\n",
    "        output_df = rankings_df.copy()\n",
    "        \n",
    "        for aggregation_method in aggregation_methods:\n",
    "            aggregation_method_name = aggregation_method.value\n",
    "            scorelist = self.convert_to_scorelist(rankings_df)\n",
    "            agg_method = getattr(RankingAggregator.FLRA, aggregation_method_name)\n",
    "            agg_rankings = agg_method(scorelist)[1]\n",
    "            output_df[f\"{aggregation_method_name}_agg_rank\"] = list(agg_rankings.values())\n",
    "\n",
    "        return output_df\n",
    "        \n",
    "    def aggregate_rankings(self, validator_name: str, aggregation_methods: List[RankingAggregationMethod]):\n",
    "        rankings_df = self.construct_rankings_df(validator_name)\n",
    "        output_df = rankings_df.copy()\n",
    "        \n",
    "        for aggregation_method in aggregation_methods:\n",
    "            aggregation_method_name = aggregation_method.value\n",
    "            scorelist = self.convert_to_scorelist(rankings_df)\n",
    "            agg_method = getattr(RankingAggregator.FLRA, aggregation_method_name)\n",
    "            agg_rankings = agg_method(scorelist)[1]\n",
    "\n",
    "            output_df[f\"{aggregation_method_name}_agg_rank\"] = list(agg_rankings.values()) \n",
    "\n",
    "        return output_df\n",
    "\n",
    "aggregator = RankingAggregator(results_object=results)\n",
    "input_df = aggregator.aggregate_modal_rankings(\"unsupervised_anomaly_data_validator\", [RankingAggregationMethod.LOWEST_RANK, RankingAggregationMethod.HIGHEST_RANK, RankingAggregationMethod.ROUND_ROBIN], given_data_modality=\"normal_vector\")\n",
    "input_df"
   ]
  },
  {
   "cell_type": "code",
   "execution_count": null,
   "id": "da3d6ae2",
   "metadata": {},
   "outputs": [
    {
     "name": "stdout",
     "output_type": "stream",
     "text": [
      "5\n"
     ]
    },
    {
     "data": {
      "image/png": "[encoded data removed]",
      "text/plain": [
       "<Figure size 640x480 with 1 Axes>"
      ]
     },
     "metadata": {},
     "output_type": "display_data"
    },
    {
     "data": {
      "image/png": "[encoded data removed]",
      "text/plain": [
       "<Figure size 640x480 with 1 Axes>"
      ]
     },
     "metadata": {},
     "output_type": "display_data"
    },
    {
     "data": {
      "image/png": "[encoded data removed]",
      "text/plain": [
       "<Figure size 640x480 with 1 Axes>"
      ]
     },
     "metadata": {},
     "output_type": "display_data"
    }
   ],
   "source": [
    "dataset.show_datapoint(0)"
   ]
  }
 ],
 "metadata": {
  "kernelspec": {
   "display_name": "dd_env",
   "language": "python",
   "name": "python3"
  },
  "language_info": {
   "codemirror_mode": {
    "name": "ipython",
    "version": 3
   },
   "file_extension": ".py",
   "mimetype": "text/x-python",
   "name": "python",
   "nbconvert_exporter": "python",
   "pygments_lexer": "ipython3",
   "version": "3.9.6"
  }
 },
 "nbformat": 4,
 "nbformat_minor": 5
}
